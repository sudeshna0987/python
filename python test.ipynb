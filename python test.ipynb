{
 "cells": [
  {
   "cell_type": "markdown",
   "id": "23958fb1-3ac6-48f3-840b-dbdb0ed013a2",
   "metadata": {},
   "source": [
    "# define python"
   ]
  },
  {
   "cell_type": "markdown",
   "id": "507e104d-7470-4931-a92a-4e2b94544b1e",
   "metadata": {},
   "source": [
    "Python is a computer programming language it is used to build websites and it is used to analyze the data. python is an interpreted and objected-oriented programming language.\n"
   ]
  },
  {
   "cell_type": "markdown",
   "id": "1794771d-f63e-43c3-91df-b1e6774907f1",
   "metadata": {},
   "source": [
    "# Create five valid and invalid variables"
   ]
  },
  {
   "cell_type": "code",
   "execution_count": 10,
   "id": "dcfd6e39-9e64-480d-b62d-cb2692b1986f",
   "metadata": {},
   "outputs": [],
   "source": [
    "#valid variables\n",
    "name = \"pavan\" \n",
    "x= 10 \n",
    "age= 25  \n",
    "_x = 5\n",
    "friendname_1= \"John\" "
   ]
  },
  {
   "cell_type": "code",
   "execution_count": 11,
   "id": "8046b7f6-961c-47bb-8925-1ee49845906c",
   "metadata": {},
   "outputs": [
    {
     "ename": "SyntaxError",
     "evalue": "invalid decimal literal (3466990518.py, line 2)",
     "output_type": "error",
     "traceback": [
      "\u001b[1;36m  Cell \u001b[1;32mIn[11], line 2\u001b[1;36m\u001b[0m\n\u001b[1;33m    1x = 20\u001b[0m\n\u001b[1;37m    ^\u001b[0m\n\u001b[1;31mSyntaxError\u001b[0m\u001b[1;31m:\u001b[0m invalid decimal literal\n"
     ]
    }
   ],
   "source": [
    "#invalid variables\n",
    "1x = 20\n",
    "+name = \"sai\"\n",
    "name_* = \"manisha\"\n",
    "@%age = 25\n",
    "!+name = \"teja\""
   ]
  },
  {
   "cell_type": "markdown",
   "id": "3649c326-c57a-4a38-9424-fa39f1648103",
   "metadata": {},
   "source": [
    "# Define list"
   ]
  },
  {
   "cell_type": "markdown",
   "id": "8874608c-c159-4ac0-85c6-9d9875734350",
   "metadata": {},
   "source": [
    "Lists are used to store multiple values in a single variable \n",
    "Lists are mutable which means we can change the values anytime in the list\n",
    "Lists are represented by square brackets \"[]\"\n",
    "Inside the list we used to seperated the values by comma \",\"."
   ]
  },
  {
   "cell_type": "code",
   "execution_count": 13,
   "id": "e3612330-b484-4931-a1a7-1c10bbdd4d26",
   "metadata": {},
   "outputs": [
    {
     "name": "stdout",
     "output_type": "stream",
     "text": [
      "apple\n",
      "grapes\n",
      "papaya\n",
      "banana\n",
      "baseball\n",
      "20\n",
      "34.56\n",
      "orange\n",
      "mango\n",
      "48964\n"
     ]
    }
   ],
   "source": [
    "list_values =[\"mango\", \"apple\", \"grapes\", \"papaya\", \"banana\", \"baseball\", 20, 34.56, \"orange\", 48964]\n",
    "print(list_values[1])\n",
    "print(list_values[2])\n",
    "print(list_values[3])\n",
    "print(list_values[4])\n",
    "print(list_values[5])\n",
    "print(list_values[6])\n",
    "print(list_values[7])\n",
    "print(list_values[8])\n",
    "print(list_values[0])\n",
    "print(list_values[9])"
   ]
  },
  {
   "cell_type": "markdown",
   "id": "9922c1dc-e1b7-498e-8d4e-6d4798266c53",
   "metadata": {},
   "source": [
    "create string"
   ]
  },
  {
   "cell_type": "code",
   "execution_count": 14,
   "id": "d8953e48-f86b-4eb2-8198-7a0f1aea9349",
   "metadata": {},
   "outputs": [
    {
     "name": "stdout",
     "output_type": "stream",
     "text": [
      "my name is sudeshna pushpa\n"
     ]
    }
   ],
   "source": [
    "a= \"my name is sudeshna pushpa\"\n",
    "print(a)"
   ]
  },
  {
   "cell_type": "markdown",
   "id": "742628ea-9369-4bfb-ac66-9771adc8d95a",
   "metadata": {},
   "source": [
    "•create tuple"
   ]
  },
  {
   "cell_type": "code",
   "execution_count": 16,
   "id": "cb040396-9dc6-40bc-ad0c-061e2bfc50d8",
   "metadata": {},
   "outputs": [
    {
     "name": "stdout",
     "output_type": "stream",
     "text": [
      "('apple', 'banana', 'mango')\n"
     ]
    }
   ],
   "source": [
    "fruits = (\"apple\", \"banana\", \"mango\")\n",
    "print(fruits)"
   ]
  },
  {
   "cell_type": "markdown",
   "id": "9aaef67a-1c33-45ce-8cd1-edce89d8f769",
   "metadata": {},
   "source": [
    "•create dictionary"
   ]
  },
  {
   "cell_type": "code",
   "execution_count": 18,
   "id": "4d597caf-d7e5-43c9-bbf9-53e8d21ecda6",
   "metadata": {},
   "outputs": [
    {
     "name": "stdout",
     "output_type": "stream",
     "text": [
      "{'brand': 'benz', 'model': 'gla', 'year': 1926}\n"
     ]
    }
   ],
   "source": [
    "mydict = {\"brand\": \"benz\",\"model\": \"gla\",\"year\": 1926}\n",
    "print(mydict)"
   ]
  },
  {
   "cell_type": "markdown",
   "id": "cd101d3e-8621-4c5c-a747-f4e63f8023da",
   "metadata": {},
   "source": [
    "♦ Access the elements above data types"
   ]
  },
  {
   "cell_type": "code",
   "execution_count": 19,
   "id": "082b0343-5ac0-4cc4-9643-d1662871e29a",
   "metadata": {},
   "outputs": [
    {
     "name": "stdout",
     "output_type": "stream",
     "text": [
      "p\n",
      "me\n"
     ]
    }
   ],
   "source": [
    "print(a[-6])\n",
    "print(a[5:7])"
   ]
  },
  {
   "cell_type": "code",
   "execution_count": 22,
   "id": "640fb3b4-e612-43d6-a834-547e1db30e27",
   "metadata": {},
   "outputs": [
    {
     "name": "stdout",
     "output_type": "stream",
     "text": [
      "{'brand': 'benz', 'model': 'gla', 'year': 1926}\n"
     ]
    }
   ],
   "source": [
    "print(mydict)"
   ]
  },
  {
   "cell_type": "code",
   "execution_count": 23,
   "id": "52b23117-dbc9-45b3-9a56-3bcc8b6e59b8",
   "metadata": {},
   "outputs": [
    {
     "name": "stdout",
     "output_type": "stream",
     "text": [
      "mango\n"
     ]
    }
   ],
   "source": [
    "print(fruits[2])"
   ]
  },
  {
   "cell_type": "markdown",
   "id": "b9dc1e0b-8ddd-4482-9bf2-5736d21cd859",
   "metadata": {},
   "source": [
    "♦ Apply methods on datatypes"
   ]
  },
  {
   "cell_type": "markdown",
   "id": "4814c835-4ac5-43be-a9eb-f9d48cb78fbb",
   "metadata": {},
   "source": [
    "# String Methods "
   ]
  },
  {
   "cell_type": "raw",
   "id": "bdb031ad-4b65-4d41-b436-516b96b7e2a5",
   "metadata": {},
   "source": [
    "♦len(): tells about length of a string \n",
    "♦islower(): returns true if all characters are in lower \n",
    "♦isupper(): returns true if all characters are in upper \n",
    "♦replace(): replace a new value with existing value\n",
    "♦lower(): converts upper to lower case\n",
    "♦upper(): converts lower to upper case\n"
   ]
  },
  {
   "cell_type": "code",
   "execution_count": 28,
   "id": "2f15cf48-0f47-408f-92e7-42262e0436dd",
   "metadata": {},
   "outputs": [
    {
     "name": "stdout",
     "output_type": "stream",
     "text": [
      "6\n"
     ]
    }
   ],
   "source": [
    "name = \"manish\"\n",
    "x= len(name)\n",
    "print(x)"
   ]
  },
  {
   "cell_type": "code",
   "execution_count": 29,
   "id": "f93e9d46-de74-46fb-bb7f-c8e4445bff06",
   "metadata": {},
   "outputs": [
    {
     "name": "stdout",
     "output_type": "stream",
     "text": [
      "True\n"
     ]
    }
   ],
   "source": [
    "name = \"manish\"\n",
    "print(name.islower())"
   ]
  },
  {
   "cell_type": "code",
   "execution_count": 35,
   "id": "592b4c5c-7920-45ce-9973-8ed77b835f50",
   "metadata": {},
   "outputs": [
    {
     "name": "stdout",
     "output_type": "stream",
     "text": [
      "False\n"
     ]
    }
   ],
   "source": [
    "name = \"manish\"\n",
    "print(name.isupper())"
   ]
  },
  {
   "cell_type": "code",
   "execution_count": 33,
   "id": "9a542ab9-86cf-49d3-bfc0-f1cbf9a0a92c",
   "metadata": {},
   "outputs": [
    {
     "name": "stdout",
     "output_type": "stream",
     "text": [
      "manish\n"
     ]
    }
   ],
   "source": [
    "name = \"MANISH\"\n",
    "print(name.lower())"
   ]
  },
  {
   "cell_type": "code",
   "execution_count": 34,
   "id": "ee760b07-c40e-4c99-a458-e5ad69572f6e",
   "metadata": {},
   "outputs": [
    {
     "name": "stdout",
     "output_type": "stream",
     "text": [
      "MANISH\n"
     ]
    }
   ],
   "source": [
    "name = \"manish\"\n",
    "print(name.upper())"
   ]
  },
  {
   "cell_type": "code",
   "execution_count": 37,
   "id": "cccf8f0a-daf8-490c-8e8e-dc177c605b2b",
   "metadata": {},
   "outputs": [
    {
     "name": "stdout",
     "output_type": "stream",
     "text": [
      "pushpa\n"
     ]
    }
   ],
   "source": [
    "name = \"manish\"\n",
    "new_name = name.replace(\"manish\", \"pushpa\")\n",
    "print(new_name)"
   ]
  },
  {
   "cell_type": "markdown",
   "id": "279ea75b-4758-4cd3-9b21-0bad8b8c2352",
   "metadata": {},
   "source": [
    "# tuple method"
   ]
  },
  {
   "cell_type": "raw",
   "id": "2d408535-df80-4744-8a50-07fb88c4ba0b",
   "metadata": {},
   "source": [
    "♦ count(): returns the no.of repeated values of the specified values\n",
    "♦ index(): returns the 1st value of a specified value"
   ]
  },
  {
   "cell_type": "code",
   "execution_count": 38,
   "id": "fc3b2233-3e0e-498d-984d-803ea367ebe2",
   "metadata": {},
   "outputs": [
    {
     "name": "stdout",
     "output_type": "stream",
     "text": [
      "0\n"
     ]
    }
   ],
   "source": [
    "a = (1,2,3,4,5,1,2)\n",
    "print(a.index(1))"
   ]
  },
  {
   "cell_type": "code",
   "execution_count": 39,
   "id": "028a8e41-e6d0-4853-bdf1-cb962ab00a3e",
   "metadata": {},
   "outputs": [
    {
     "name": "stdout",
     "output_type": "stream",
     "text": [
      "4\n"
     ]
    }
   ],
   "source": [
    "a=(1,2,3,4,5,1,2,3,3,3,4,2,5,6,4,7,1,2,4)\n",
    "print(a.count(2))"
   ]
  },
  {
   "cell_type": "markdown",
   "id": "78691309-72f7-4d06-a10a-af44ea34c254",
   "metadata": {},
   "source": [
    "# List methods"
   ]
  },
  {
   "cell_type": "raw",
   "id": "4ae9fc25-40a1-486f-ad74-fb954198c3b9",
   "metadata": {},
   "source": [
    "♦append(): Adds an element at the end of the list\n",
    "♦extend(): Add the elements of a list (or any iterable), to the end of the current list\n",
    "♦insert():\tAdds an element at the specified position\n",
    "♦remove(): Removes the item with the specified value\n",
    "♦reverse():\tReverses the order of the list\n",
    "♦pop(): Removes the element at the specified position\n",
    "♦index(): Returns the index of the first element with the specified value\t\n",
    "♦count(): Returns the number of elements with the specified value\n",
    "♦copy(): Returns a copy of the list\n",
    "♦clear(): Removes all the elements from the list\t"
   ]
  },
  {
   "cell_type": "code",
   "execution_count": 42,
   "id": "6a1ea7df-d17c-4824-8454-d71e898d9d14",
   "metadata": {},
   "outputs": [
    {
     "name": "stdout",
     "output_type": "stream",
     "text": [
      "[1, 2, 3, 4, 5, 7]\n"
     ]
    }
   ],
   "source": [
    "a= [1,2,3,4,5]\n",
    "a.append(7)\n",
    "print(a)"
   ]
  },
  {
   "cell_type": "code",
   "execution_count": 45,
   "id": "156337a4-11c7-4e34-a247-5b8cbe00cb38",
   "metadata": {},
   "outputs": [
    {
     "name": "stdout",
     "output_type": "stream",
     "text": [
      "[5, 6, 7, 8, 3, 10, 30, 20, 40]\n"
     ]
    }
   ],
   "source": [
    "x = [5,6,7,8,3]\n",
    "y= [10,30,20,40]\n",
    "x.extend(y)\n",
    "print(x)"
   ]
  },
  {
   "cell_type": "code",
   "execution_count": 46,
   "id": "4dc34a6e-0a3c-48a8-be43-61ede4c29094",
   "metadata": {},
   "outputs": [
    {
     "name": "stdout",
     "output_type": "stream",
     "text": [
      "[1, 2, 5, 6, 7, 8, 30]\n"
     ]
    }
   ],
   "source": [
    "x= [1,2,5,6,7,8]\n",
    "x.insert(10, 30)\n",
    "print(x)"
   ]
  },
  {
   "cell_type": "code",
   "execution_count": 47,
   "id": "b2c57173-92c6-4e83-8f4e-c4546be19bd5",
   "metadata": {},
   "outputs": [
    {
     "name": "stdout",
     "output_type": "stream",
     "text": [
      "[1, 2, 3, 4, 5]\n"
     ]
    }
   ],
   "source": [
    "x= [1,2,3,4,5,6]\n",
    "x.remove(6)\n",
    "print(x)"
   ]
  },
  {
   "cell_type": "code",
   "execution_count": 51,
   "id": "4f36892c-0b25-4c46-b4d5-043d997a4ce8",
   "metadata": {},
   "outputs": [
    {
     "name": "stdout",
     "output_type": "stream",
     "text": [
      "[6, 5, 4, 3, 2, 1]\n"
     ]
    }
   ],
   "source": [
    "x= [1,2,3,4,5,6]\n",
    "x.reverse()\n",
    "print(x)"
   ]
  },
  {
   "cell_type": "code",
   "execution_count": 52,
   "id": "ea3fc920-4692-467e-beb4-3e6d5f76bd89",
   "metadata": {},
   "outputs": [
    {
     "name": "stdout",
     "output_type": "stream",
     "text": [
      "6\n"
     ]
    }
   ],
   "source": [
    "x= [1,2,3,4,5,6]\n",
    "print(x.pop(5))"
   ]
  },
  {
   "cell_type": "code",
   "execution_count": 54,
   "id": "b5b1635e-168c-4316-810a-1330f1a331c0",
   "metadata": {},
   "outputs": [
    {
     "name": "stdout",
     "output_type": "stream",
     "text": [
      "4\n"
     ]
    }
   ],
   "source": [
    "x= [1,2,3,4,5,6]\n",
    "print(x.index(5))"
   ]
  },
  {
   "cell_type": "code",
   "execution_count": 57,
   "id": "6264b329-ca8c-4245-8888-f40402a75b29",
   "metadata": {},
   "outputs": [
    {
     "name": "stdout",
     "output_type": "stream",
     "text": [
      "4\n"
     ]
    }
   ],
   "source": [
    "x= [1,2,3,4,5,6,2,3,2,4,2]\n",
    "print(x.count(2))"
   ]
  },
  {
   "cell_type": "code",
   "execution_count": 58,
   "id": "d73223f4-202e-4a8f-a4df-29850a6da01d",
   "metadata": {},
   "outputs": [
    {
     "name": "stdout",
     "output_type": "stream",
     "text": [
      "[1, 2, 3, 4, 5, 6]\n"
     ]
    }
   ],
   "source": [
    "x= [1,2,3,4,5,6]\n",
    "print(x.copy())"
   ]
  },
  {
   "cell_type": "code",
   "execution_count": 59,
   "id": "920b2f4b-a56e-470f-bf53-13c568854581",
   "metadata": {},
   "outputs": [
    {
     "name": "stdout",
     "output_type": "stream",
     "text": [
      "None\n"
     ]
    }
   ],
   "source": [
    "x= [1,2,3,4,5,6]\n",
    "print(x.clear())"
   ]
  },
  {
   "cell_type": "markdown",
   "id": "91c968b2-5f66-4137-bb50-5964a43dc1b5",
   "metadata": {},
   "source": [
    "# dictionaries methods"
   ]
  },
  {
   "cell_type": "raw",
   "id": "ff7038f8-9d44-473c-9528-bd11e91b8f86",
   "metadata": {},
   "source": [
    "♦get(): if the is not present in the dict. it shows the same value what we mentioned\n",
    "♦keys(): returns all the keys in the dictionary\n",
    "♦pop(): removes the specified values\n",
    "♦items():  returns all the items(key-value pairs) in the dictionary\n",
    "♦values():  returns all the values in the dictionary\n",
    "♦popitmes(): removes& returns the last inserted key-value pair as a tuple"
   ]
  },
  {
   "cell_type": "code",
   "execution_count": 64,
   "id": "e44d6067-fcfe-418a-bc6f-0ce7eb620032",
   "metadata": {},
   "outputs": [
    {
     "name": "stdout",
     "output_type": "stream",
     "text": [
      "{'brand': 'benz', 'model': 'gla', 'year': 1926}\n"
     ]
    }
   ],
   "source": [
    "mydict = {\"brand\": \"benz\",\"model\": \"gla\",\"year\": 1926}\n",
    "print(mydict)"
   ]
  },
  {
   "cell_type": "code",
   "execution_count": 66,
   "id": "4cd05401-770b-45e6-8abe-3b006366ecf9",
   "metadata": {},
   "outputs": [
    {
     "name": "stdout",
     "output_type": "stream",
     "text": [
      "python\n"
     ]
    }
   ],
   "source": [
    "s = mydict.get(\"subject\", \"python\")\n",
    "print(s)"
   ]
  },
  {
   "cell_type": "code",
   "execution_count": 67,
   "id": "4262814d-a3a0-42fc-93e4-c8211a76d61c",
   "metadata": {},
   "outputs": [
    {
     "name": "stdout",
     "output_type": "stream",
     "text": [
      "dict_keys(['brand', 'model', 'year'])\n"
     ]
    }
   ],
   "source": [
    "keys = mydict.keys()\n",
    "print(keys)"
   ]
  },
  {
   "cell_type": "code",
   "execution_count": 68,
   "id": "39aa2946-ca0d-459d-b656-6a951e8994e0",
   "metadata": {},
   "outputs": [
    {
     "name": "stdout",
     "output_type": "stream",
     "text": [
      "dict_values(['benz', 'gla', 1926])\n"
     ]
    }
   ],
   "source": [
    "values = mydict.values()\n",
    "print(values)"
   ]
  },
  {
   "cell_type": "code",
   "execution_count": 69,
   "id": "59127b28-1eea-4f28-823a-40e19348455d",
   "metadata": {},
   "outputs": [
    {
     "name": "stdout",
     "output_type": "stream",
     "text": [
      "dict_items([('brand', 'benz'), ('model', 'gla'), ('year', 1926)])\n"
     ]
    }
   ],
   "source": [
    "items = mydict.items()\n",
    "print(items)"
   ]
  },
  {
   "cell_type": "code",
   "execution_count": 79,
   "id": "16f74f80-ee41-4e23-ad16-301da7468d49",
   "metadata": {},
   "outputs": [
    {
     "name": "stdout",
     "output_type": "stream",
     "text": [
      "{'brand': 'benz', 'model': 'gla'}\n"
     ]
    }
   ],
   "source": [
    "mydict.pop(\"year\")\n",
    "print(mydict)"
   ]
  },
  {
   "cell_type": "code",
   "execution_count": 80,
   "id": "e9b613d1-0784-4d9b-b594-c270669abf38",
   "metadata": {},
   "outputs": [
    {
     "name": "stdout",
     "output_type": "stream",
     "text": [
      "('model', 'gla')\n"
     ]
    }
   ],
   "source": [
    "last_item = mydict.popitem()\n",
    "print(last_item)"
   ]
  },
  {
   "cell_type": "code",
   "execution_count": null,
   "id": "638630b5-98f2-48ba-a70e-4b9396d55a86",
   "metadata": {},
   "outputs": [],
   "source": []
  }
 ],
 "metadata": {
  "kernelspec": {
   "display_name": "Python 3 (ipykernel)",
   "language": "python",
   "name": "python3"
  },
  "language_info": {
   "codemirror_mode": {
    "name": "ipython",
    "version": 3
   },
   "file_extension": ".py",
   "mimetype": "text/x-python",
   "name": "python",
   "nbconvert_exporter": "python",
   "pygments_lexer": "ipython3",
   "version": "3.11.7"
  }
 },
 "nbformat": 4,
 "nbformat_minor": 5
}
